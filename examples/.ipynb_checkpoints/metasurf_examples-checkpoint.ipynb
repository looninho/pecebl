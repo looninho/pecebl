{
 "cells": [
  {
   "cell_type": "markdown",
   "metadata": {},
   "source": [
    "## 0) Use Casino3 software\n",
    "\n",
    "In this first demo I use a PSF from Casino3 to expose a demo pattern.\n",
    "\n",
    "The Casino3 software can be downloaded here http://www.gel.usherbrooke.ca/casino/. You have to register to download\n",
    "\n",
    "The demo sample is a 200nm PMMA resist layer on a GaN 850 nm on Sapphire substrate. For this example I use 1e7 electrons with 20kV of accelerate voltage and the options are:\n",
    "\n",
    "    no generate secondary electrons,\n",
    "    1nm beam diameter,\n",
    "    100 mrad beam semi-angle\n",
    "    1.65 gaussian beam distribution.\n",
    "    cartesian distribution for data\n",
    "    ...\n",
    "\n",
    "more parameters are in the sample file _PMMA200_GaN850_Sapphire.sim_ given with this demo.\n",
    "\n",
    "The PSF is saved in _pmma_1e7_20kV_100mrad_1pt.dat_ file. This file will be used in this example."
   ]
  },
  {
   "cell_type": "markdown",
   "metadata": {},
   "source": [
    "## I) Building the PSF data\n",
    "We will get at the end of this section a 2D matrix data with the psf at the center. Here are the steps to do:\n",
    "\n",
    "1. Decide the hardware parameters you want to use: the beam energy, the beam current. And the physical properties of your sample.\n",
    "2. Get the interaction between the electron beam and your sample. You can do it by experiment or by monte-carlo simulation like [Casino3](http://www.gel.usherbrooke.ca/casino/). We call it the *psf function*.\n",
    "3. Map the *psf function* to a 2D matrix of size equals to the writefield you want to simulate. We call it the *PSF data*.\n",
    "### I-1) Setup the electron beamer\n",
    "We use a *Zeiss Supra40* SEM with `20 kV` and the `7.5 µm` aperture"
   ]
  },
  {
   "cell_type": "code",
   "execution_count": 1,
   "metadata": {},
   "outputs": [
    {
     "name": "stdout",
     "output_type": "stream",
     "text": [
      "SEM info:\n",
      "current aperture size: 7.5 µm\n",
      "current voltage: 20 kV\n",
      "beam current: 16 pA\n",
      "\n"
     ]
    }
   ],
   "source": [
    "from pecebl.sem import supra40 as beamer\n",
    "\n",
    "meb = beamer.Supra40(20) #we use a sem Zeiss Supra40 at 20kV\n",
    "meb.change_aperture(7.5) #use the 7.5 µm aperture\n",
    "meb.info()"
   ]
  },
  {
   "cell_type": "markdown",
   "metadata": {},
   "source": [
    "### I-2) Import simulated data from Casino3\n",
    "\n",
    "Monte-Carlo data: import psf file _zep520_1e7_30kV_100mrad_1pt_ from Casino3"
   ]
  },
  {
   "cell_type": "code",
   "execution_count": 2,
   "metadata": {},
   "outputs": [],
   "source": [
    "from pecebl.psf_import.casino import Casino3 as cs3\n",
    "\n",
    "sim=cs3('data/pmma_1e7_20kV_100mrad_1pt.dat') #data from Casino3 software"
   ]
  },
  {
   "cell_type": "markdown",
   "metadata": {},
   "source": [
    "The number of electron paths simulated in Casino3 was `1e7`. The beam writer Raith Elphy Plus has `6 MHz` of electronic speed.\n",
    "`i_y` for locating at the peak of the psf and `i_z` for placing at the middle depth of the ebeam resist. In this example, I use **Casino3** in a grid size of `(x=8000, y=0.6, z=210)` in *nm* divided by `(nx=8000, ny=6, nz=6)` dots, hence `i_y=3` and `i_z=3`. Now we can get the `psf_fct`:"
   ]
  },
  {
   "cell_type": "code",
   "execution_count": 3,
   "metadata": {},
   "outputs": [
    {
     "name": "stdout",
     "output_type": "stream",
     "text": [
      "min value = 0.0; mean value = 0.0003472192667973544; max value = 0.2360721816227245.\n"
     ]
    }
   ],
   "source": [
    "from pecebl.utils import *\n",
    "\n",
    "psf_fct=get_psf_fct(1e7, sim, 6, meb.beam_current, i_y=3, i_z=3)\n",
    "\n",
    "# print the min, max  and mean values:\n",
    "log_message = f'min value = {np.min(psf_fct[:,1])}; mean value = {np.mean(psf_fct[:,1])}; max value = {np.max(psf_fct[:,1])}.'\n",
    "print(log_message)"
   ]
  },
  {
   "cell_type": "code",
   "execution_count": 4,
   "metadata": {},
   "outputs": [
    {
     "data": {
      "image/png": "[encoded data removed]",
      "text/plain": [
       "<Figure size 432x288 with 1 Axes>"
      ]
     },
     "metadata": {
      "needs_background": "light"
     },
     "output_type": "display_data"
    }
   ],
   "source": [
    "#let's see what look-like the pre-PSF at 100 nm depth of the ebeam resist:\n",
    "plt.semilogy(psf_fct[:,0],psf_fct[:,1],'g-',label='100nm')\n",
    "plt.title('Energy Density Distribution');\n",
    "plt.xlabel('$r[nm]$')\n",
    "plt.ylabel('$eV/nm$')\n",
    "plt.legend(loc='upper right', shadow=True)\n",
    "plt.show()"
   ]
  },
  {
   "cell_type": "markdown",
   "metadata": {},
   "source": [
    "### I-3) Building the PSF:\n",
    "\n",
    "In this demo we do with `WF = 5 µm` (writefield) just bigger than the the pattern size (4 µm)\n",
    "\n",
    "`NP` is the number of pixels, `WF` is the writefield *(nm)*. We can calculate the `pixel_size` then map the two columns data `psf_fct` to a 2D matrix `z_psf` of size *(WF, WF)* $(nm^2)$ (or *(NP, NP)* $(pixel^2)$):"
   ]
  },
  {
   "cell_type": "code",
   "execution_count": 5,
   "metadata": {},
   "outputs": [
    {
     "name": "stdout",
     "output_type": "stream",
     "text": [
      "pixel size:  6.4453125\n",
      "z_PSF created on GPU in 0.428084 s\n",
      "min value = 0.0; max value = 0.23180298941579333; sum value = 4.81015004684913.\n",
      "  Total Memory: 1997 MiB\n",
      "  Free Memory: 1503 MiB\n"
     ]
    },
    {
     "data": {
      "image/png": "[encoded data removed]",
      "text/plain": [
       "<Figure size 432x288 with 1 Axes>"
      ]
     },
     "metadata": {
      "needs_background": "light"
     },
     "output_type": "display_data"
    }
   ],
   "source": [
    "# number of pixels and WF:\n",
    "NP=2048;\n",
    "WF = 13200 #for example2\n",
    "\n",
    "pixel_centered=True #True: (0,0) is in the [NP/2,NP/2] location.\n",
    "pixel_size=np.float32(WF/NP) if pixel_centered else np.float32(WF/(NP-1))\n",
    "print('pixel size: ', pixel_size)\n",
    "\n",
    "#to avoid\n",
    "#RuntimeError: Numba cannot operate on non-primary CUDA context\n",
    "#when using pycuda.\n",
    "\n",
    "if 'pycuda_used' in locals():\n",
    "    if pycuda_used:\n",
    "        fft.cudadriver.Context.pop()\n",
    "\n",
    "from pecebl.ebl_kernels import kernels as ker\n",
    "from pecebl.designer import designer as pg\n",
    "\n",
    "z_psf=ker.build_psf(psf_fct, NP, WF, pixel_size, pg.dot(0,0)[0], blockdim=(32,16))\n",
    "numba_used = True\n",
    "\n",
    "#plot PSF:\n",
    "plt.imshow(z_psf,origin='lower', extent=[-WF/2, WF/2, -WF/2, WF/2],interpolation=\"nearest\", cmap=plt.cm.jet)\n",
    "plt.show()"
   ]
  },
  {
   "cell_type": "markdown",
   "metadata": {},
   "source": [
    "## II) Create an pattern : metasurface"
   ]
  },
  {
   "cell_type": "code",
   "execution_count": 6,
   "metadata": {},
   "outputs": [],
   "source": [
    "corner_1=(-122250,-122500);corner_2=(120800,122500) #for real size 250 µm²\n",
    "# 2 elements:\n",
    "w2=[639.7,119.6];d2=[428.6,133.4]\n",
    "# 3 elements:\n",
    "w3=[133.4,214.3,618.6];d3=[140.7,105.1,109.2]\n",
    "# 4 elements:\n",
    "w4=[156.4,295.4,211.8,184.2];d4=[174.4,115.2,90.1,93.3]\n",
    "# 5 elements:\n",
    "w5=[146.2,236.9,90,98.2,161.5];d5=[175.3,93.4,111.2,102.2,106.3]\n",
    "# 6 elements:\n",
    "w6=[177.9,151.9,134.1,120.9,90.1,106.1];d6=[90.2,90.3,89.7,90.1,90.1,90.2]"
   ]
  },
  {
   "cell_type": "code",
   "execution_count": 7,
   "metadata": {},
   "outputs": [
    {
     "name": "stdout",
     "output_type": "stream",
     "text": [
      "W, H:  11894.4 11895.0\n"
     ]
    },
    {
     "data": {
      "image/png": "[encoded data removed]",
      "text/plain": [
       "<Figure size 432x288 with 1 Axes>"
      ]
     },
     "metadata": {
      "needs_background": "light"
     },
     "output_type": "display_data"
    }
   ],
   "source": [
    "#example2\n",
    "ss=20;\n",
    "T=sum(w6)+sum(d6)\n",
    "n=10\n",
    "W=(n-1)*T;H=np.ceil(W)\n",
    "print(\"W, H: \", W, H)\n",
    "corner1=[-W/2,-H/2];corner2=[W/2,H/2]\n",
    "\n",
    "final_pattern=pg.metasurface1(ss,w2,d2,[-W/2,-H/2],[W/2,H/2],n)\n",
    "plt.plot(final_pattern[:,0], final_pattern[:,1], 'o', ms=1)\n",
    "plt.axis('equal');plt.show()"
   ]
  },
  {
   "cell_type": "markdown",
   "metadata": {},
   "source": [
    "### 3-3) Building the dose distribution:\n",
    "\n",
    "*dose_dis* is the initial dose distribution for this demo pattern. Dose factor = 1 at each dot of the pattern."
   ]
  },
  {
   "cell_type": "code",
   "execution_count": 8,
   "metadata": {},
   "outputs": [
    {
     "data": {
      "text/plain": [
       "({2: 6, 5: 2, 149: 1}, [2, 5, 149])"
      ]
     },
     "execution_count": 8,
     "metadata": {},
     "output_type": "execute_result"
    }
   ],
   "source": [
    "from sympy.ntheory import primefactors, factorint\n",
    "\n",
    "factorint(final_pattern.shape[0]), primefactors(final_pattern.shape[0])"
   ]
  },
  {
   "cell_type": "code",
   "execution_count": 9,
   "metadata": {},
   "outputs": [
    {
     "data": {
      "text/plain": [
       "((238400, 3), 238400)"
      ]
     },
     "execution_count": 9,
     "metadata": {},
     "output_type": "execute_result"
    }
   ],
   "source": [
    "final_pattern.shape, 2**6*5**2*149 #for example2"
   ]
  },
  {
   "cell_type": "code",
   "execution_count": 10,
   "metadata": {},
   "outputs": [
    {
     "data": {
      "text/plain": [
       "(25, 16, 149, 4)"
      ]
     },
     "execution_count": 10,
     "metadata": {},
     "output_type": "execute_result"
    }
   ],
   "source": [
    "#we cut the final_pattern into grid of blocks size:\n",
    "5**2,2**4,149,2**2 #for example2"
   ]
  },
  {
   "cell_type": "code",
   "execution_count": 11,
   "metadata": {},
   "outputs": [
    {
     "name": "stdout",
     "output_type": "stream",
     "text": [
      "Dose calculated on GPU in 0.336390 s\n",
      "overlap = 0.0. Negative value = lost dose.\n",
      "1.0 1.0\n",
      "  Total Memory: 1997 MiB\n",
      "  Free Memory: 1465 MiB\n"
     ]
    },
    {
     "data": {
      "image/png": "[encoded data removed]",
      "text/plain": [
       "<Figure size 432x288 with 1 Axes>"
      ]
     },
     "metadata": {
      "needs_background": "light"
     },
     "output_type": "display_data"
    }
   ],
   "source": [
    "dose_dis = ker.build_dose_distribution(final_pattern, NP, WF, pixel_size, blockdim=(25,16), griddim=(149,4))\n",
    "\n",
    "# Let's exposure at 30 µC/cm²:\n",
    "dose_dis *= dtfactor(30,ss,meb.beam_current)\n",
    "\n",
    "plt.imshow(dose_dis,origin='lower', extent=[-WF/2, WF/2, -WF/2, WF/2],interpolation=\"nearest\", cmap=plt.cm.jet)\n",
    "plt.show()"
   ]
  },
  {
   "cell_type": "markdown",
   "metadata": {},
   "source": [
    "## III) Simulation of ebeam exposure\n",
    "### III-1) Padding the PSF\n",
    "PSF kernel need to be expanded to image (expo) size and padded according to **Victor Podlozhnyuk**'s white paper *FFT-based 2D  convolution*: PSF data and resulting exposure data have the same size"
   ]
  },
  {
   "cell_type": "code",
   "execution_count": 12,
   "metadata": {},
   "outputs": [],
   "source": [
    "#padded psf prior to fft tansform:\n",
    "ppsf=np.empty((NP,NP),np.float64)\n",
    "ppsf[:NP//2-1,NP//2+1:]=z_psf[NP//2+1:,:NP//2-1]\n",
    "ppsf[:NP//2-1,:NP//2+1]=z_psf[NP//2+1:,NP//2-1:]\n",
    "ppsf[NP//2-1:,:NP//2+1]=z_psf[:NP//2+1,NP//2-1:]\n",
    "ppsf[NP//2-1:,NP//2+1:]=z_psf[:NP//2+1,:NP//2-1]\n",
    "\n",
    "del z_psf"
   ]
  },
  {
   "cell_type": "markdown",
   "metadata": {},
   "source": [
    "### III-2) Exposure using FFT convolution\n",
    "\n",
    "Convolution by FFT principe:\n",
    " - apply direct FFT to the convolution kernel (padded)\n",
    " - apply direct FFT to the input data array (or image)\n",
    " - perform the point-wise multiplication of the two preceding results\n",
    " - apply inverse FFT to the result of the multiplication\n",
    " \n",
    "We have the PSF and the dose distribution, we can do a FFT convolution to expose our pattern: "
   ]
  },
  {
   "cell_type": "code",
   "execution_count": 13,
   "metadata": {},
   "outputs": [
    {
     "name": "stderr",
     "output_type": "stream",
     "text": [
      "/home/luan/anaconda3/envs/pecebl/lib/python3.7/site-packages/skcuda/cublas.py:284: UserWarning: creating CUBLAS context to get version number\n",
      "  warnings.warn('creating CUBLAS context to get version number')\n"
     ]
    },
    {
     "name": "stdout",
     "output_type": "stream",
     "text": [
      "GPU : FFT(psf) = psf in-place fft..\n",
      "GPU : FFT(dose_pc) = dose_dis in-place fft..\n",
      "GPU : point-wise multiplication of two matrices...\n",
      "GPU : inverse FFT to get exposure energy distribution...\n",
      "convolution done on GPU in 5.273983 s\n",
      "58.9 % of device memory is free.\n",
      "62.1 % of device memory is free.\n",
      "1.281621806486987 -1.6361183483008842e-14 20.685792017523973 1.7216877205574604e-14\n"
     ]
    },
    {
     "data": {
      "image/png": "[encoded data removed]",
      "text/plain": [
       "<Figure size 432x288 with 1 Axes>"
      ]
     },
     "metadata": {
      "needs_background": "light"
     },
     "output_type": "display_data"
    }
   ],
   "source": [
    "#to avoid\n",
    "#LogicError: explicit_context_dependent failed: invalid device context - no currently active context?\n",
    "#when reuse pycuda after using numba cuda.\n",
    "\n",
    "from pycuda.tools import make_default_context\n",
    "\n",
    "if 'numba_used' in locals() and 'pycuda_used' in locals():\n",
    "    if numba_used and pycuda_used:\n",
    "        make_default_context()\n",
    "\n",
    "from pecebl.fft_ops import fft_ops as fft\n",
    "\n",
    "z = fft.fft_exposure(ppsf, dose_dis)\n",
    "pycuda_used = True\n",
    "\n",
    "print(np.min(z.real),np.min(z.imag),np.max(z.real),np.max(z.imag))\n",
    "\n",
    "plt.imshow(z.real,origin='lower', extent=[-WF/2, WF/2, -WF/2, WF/2],interpolation=\"nearest\", cmap=plt.cm.jet)\n",
    "plt.show()"
   ]
  },
  {
   "cell_type": "markdown",
   "metadata": {},
   "source": [
    "## IV) Develop\n",
    "- a clearing dose 12 eV/nm with step size 4 nm give resist threshold = 3 eV"
   ]
  },
  {
   "cell_type": "code",
   "execution_count": 14,
   "metadata": {},
   "outputs": [
    {
     "data": {
      "text/plain": [
       "(1.281621806486987,\n",
       " 12.303183007859579,\n",
       " 20.685792017523973,\n",
       " -1.6361183483008842e-14,\n",
       " 1.7216877205574604e-14)"
      ]
     },
     "execution_count": 14,
     "metadata": {},
     "output_type": "execute_result"
    }
   ],
   "source": [
    "#z *= 1 #dose increase x times\n",
    "np.min(z.real),np.mean(z.real), np.max(z.real),np.min(z.imag),np.max(z.imag)"
   ]
  },
  {
   "cell_type": "code",
   "execution_count": 15,
   "metadata": {},
   "outputs": [
    {
     "data": {
      "image/png": "[encoded data removed]",
      "text/plain": [
       "<Figure size 432x288 with 1 Axes>"
      ]
     },
     "metadata": {
      "needs_background": "light"
     },
     "output_type": "display_data"
    }
   ],
   "source": [
    "th_resist=12 #clearing dose = 3 eV\n",
    "z_dev = (z.real> th_resist) * z.real\n",
    "\n",
    "z_dev[z_dev > 0] = 1\n",
    "\n",
    "plt.imshow(z_dev,origin='lower', extent=[-WF/2, WF/2, -WF/2, WF/2]);plt.show()"
   ]
  },
  {
   "cell_type": "code",
   "execution_count": null,
   "metadata": {},
   "outputs": [],
   "source": [
    "import imageio\n",
    "\n",
    "filename='R48_D30_30kV_th_3.png'\n",
    "imageio.imwrite(filename, z_dev) #save image to filename"
   ]
  },
  {
   "cell_type": "markdown",
   "metadata": {},
   "source": [
    "## V) 3D view with pyopengl\n",
    "\n",
    "may take a while to display"
   ]
  },
  {
   "cell_type": "code",
   "execution_count": null,
   "metadata": {},
   "outputs": [],
   "source": [
    "import sys\n",
    "from pyqtgraph.Qt import QtCore, QtGui\n",
    "import pyqtgraph as pg\n",
    "import pyqtgraph.opengl as gl"
   ]
  },
  {
   "cell_type": "code",
   "execution_count": null,
   "metadata": {},
   "outputs": [],
   "source": [
    "app = QtGui.QApplication([])"
   ]
  },
  {
   "cell_type": "code",
   "execution_count": null,
   "metadata": {},
   "outputs": [],
   "source": [
    "x=np.linspace(-WF/2,WF/2,NP)\n",
    "y=np.linspace(-WF/2,WF/2,NP)\n",
    "\n",
    "#3D GL view:\n",
    "w = gl.GLViewWidget()\n",
    "w.show()\n",
    "w.setWindowTitle('Expo EBL: ')\n",
    "w.setCameraPosition(distance=50)\n",
    "\n",
    "## Add a grid to the view\n",
    "g = gl.GLGridItem()\n",
    "g.scale(1,1,1)\n",
    "g.setDepthValue(1)  # draw grid after surfaces since they may be translucent\n",
    "w.addItem(g)\n",
    "\n",
    "cmap=plt.get_cmap('jet')\n",
    "minZ=np.min(z.real);maxZ=np.max(z.real)\n",
    "rgba_img=cmap((z.real-minZ)/(maxZ-minZ))\n",
    "\n",
    "## Simple surface plot example\n",
    "p1 = gl.GLSurfacePlotItem(x,y,z.real, colors=rgba_img)\n",
    "#p1.translate(0, 0, -np.mean(z))\n",
    "w.addItem(p1)\n",
    "\n",
    "if (sys.flags.interactive != 1) or not hasattr(QtCore, 'PYQT_VERSION'):\n",
    "    QtGui.QApplication.instance().exec_()"
   ]
  },
  {
   "cell_type": "code",
   "execution_count": null,
   "metadata": {},
   "outputs": [],
   "source": []
  }
 ],
 "metadata": {
  "kernelspec": {
   "display_name": "Python 3.7 (pecebl)",
   "language": "python",
   "name": "pecebl"
  },
  "language_info": {
   "codemirror_mode": {
    "name": "ipython",
    "version": 3
   },
   "file_extension": ".py",
   "mimetype": "text/x-python",
   "name": "python",
   "nbconvert_exporter": "python",
   "pygments_lexer": "ipython3",
   "version": "3.7.6"
  }
 },
 "nbformat": 4,
 "nbformat_minor": 2
}
